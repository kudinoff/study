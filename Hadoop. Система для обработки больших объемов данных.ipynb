{
 "cells": [
  {
   "cell_type": "code",
   "execution_count": 1,
   "metadata": {},
   "outputs": [
    {
     "name": "stdout",
     "output_type": "stream",
     "text": [
      "aut\t2\n",
      "Caesar\t1\n",
      "nihil\t1\n",
      "aut\t2\n",
      "de\t1\n",
      "mortuis\t1\n",
      "aut\t2\n",
      "bene\t1\n",
      "nihil\t1\n"
     ]
    }
   ],
   "source": [
    "# вариант 1 https://stepik.org/lesson/17726/step/4?auth=login&unit=4413\n",
    "b = open('/Users/kudinoff/Downloads/13.txt')\n",
    "for stra in b:\n",
    "    dict ={}\n",
    "    f = stra.split()\n",
    "    for d in f:\n",
    "        if dict.get(d):\n",
    "            dict[d] += 1\n",
    "        else:\n",
    "             dict[d] = 1\n",
    "    for k, v in dict.items():\n",
    "        #print(k+'\\t'+str(v))\n",
    "        print(f'{k}\\t{str(v)}') #полезно печатать через шаблоны"
   ]
  },
  {
   "cell_type": "code",
   "execution_count": 2,
   "metadata": {},
   "outputs": [
    {
     "name": "stdout",
     "output_type": "stream",
     "text": [
      "aut\t2\n",
      "Caesar\t1\n",
      "nihil\t1\n",
      "aut\t2\n",
      "de\t1\n",
      "mortuis\t1\n",
      "aut\t2\n",
      "bene\t1\n",
      "nihil\t1\n"
     ]
    }
   ],
   "source": [
    "# вариант 2  https://stepik.org/lesson/17726/step/4?auth=login&unit=4413 с Counter\n",
    "b = open('/Users/kudinoff/Downloads/13.txt')\n",
    "from collections import Counter \n",
    "for stra in b:\n",
    "    d = Counter(stra.split()) #подсчитывает количесво уникальныхзначений в любом итерируемом типе\n",
    "    for word in d:\n",
    "        print(f'{word}\\t{d[word]}')"
   ]
  },
  {
   "cell_type": "code",
   "execution_count": null,
   "metadata": {},
   "outputs": [],
   "source": [
    "autosave 120"
   ]
  },
  {
   "cell_type": "code",
   "execution_count": 3,
   "metadata": {},
   "outputs": [
    {
     "name": "stdout",
     "output_type": "stream",
     "text": [
      "aut\t6\n",
      "Caesar\t1\n",
      "nihil\t2\n",
      "de\t1\n",
      "mortuis\t1\n",
      "bene\t1\n"
     ]
    }
   ],
   "source": [
    "#  вариант 1  https://stepik.org/lesson/17726/step/5?auth=login&unit=4413\n",
    "b = open('/Users/kudinoff/Downloads/13.txt')\n",
    "dict ={}\n",
    "for stra in b:\n",
    "    f= stra.strip().split(' ')\n",
    "    for d in f:\n",
    "        if dict.get(d):\n",
    "            dict[d] +=1\n",
    "        else:\n",
    "             dict[d] =1\n",
    "for k, v in dict.items():\n",
    "    print(f'{k}\\t{str(v)}')"
   ]
  },
  {
   "cell_type": "code",
   "execution_count": 4,
   "metadata": {},
   "outputs": [
    {
     "name": "stdout",
     "output_type": "stream",
     "text": [
      "aut\t6\n",
      "Caesar\t1\n",
      "nihil\t2\n",
      "de\t1\n",
      "mortuis\t1\n",
      "bene\t1\n"
     ]
    }
   ],
   "source": [
    "#  вариант 2 get  по другому https://stepik.org/lesson/17726/step/5?auth=login&unit=4413\n",
    "b = open('/Users/kudinoff/Downloads/13.txt')\n",
    "dict ={}\n",
    "for stra in b:\n",
    "    f= stra.strip().split(' ')\n",
    "    for d in f:\n",
    "        dict[d] = dict.get(d,0) + 1 # если нет с такоо ключа , то 0 возвращает к которому потом +1\n",
    "for k, v in dict.items():\n",
    "    print(f'{k}\\t{str(v)}')"
   ]
  },
  {
   "cell_type": "code",
   "execution_count": 7,
   "metadata": {},
   "outputs": [
    {
     "name": "stdout",
     "output_type": "stream",
     "text": [
      "www.facebook.com\t100\n",
      "www.google.com\t10\n",
      "www.stepic.org\t80\n"
     ]
    }
   ],
   "source": [
    "# https://stepik.org/lesson/17726/step/6?auth=login&unit=4413\n",
    "a = open('/Users/kudinoff/Downloads/14.txt')\n",
    "(lastKey, sum)=(None, 0)\n",
    "cnt = 0\n",
    "for line in a:\n",
    "    (key, value) = line.strip().split(\"\\t\")\n",
    "    if lastKey and (lastKey != key):\n",
    "        print (f'{lastKey}\\t{str(int(sum/cnt))}')\n",
    "        cnt = 0\n",
    "        (lastKey, sum) = (key, int(value))\n",
    "    else:\n",
    "        (lastKey, sum) = (key, (sum + int(value)))\n",
    "    cnt+=1\n",
    "if lastKey:\n",
    "    print (f'{lastKey}\\t{str(int(sum/cnt))}')"
   ]
  },
  {
   "cell_type": "code",
   "execution_count": 19,
   "metadata": {},
   "outputs": [
    {
     "name": "stdout",
     "output_type": "stream",
     "text": [
      "www.facebook.com\t100;1\n",
      "www.google.com\t30;3\n",
      "stepic.org\t160;2\n"
     ]
    }
   ],
   "source": [
    "# https://stepik.org/lesson/17726/step/7?auth=login&unit=4413\n",
    "a = open('/Users/kudinoff/Downloads/15.txt')\n",
    "(lastKey, sum)=(None, 0)\n",
    "cnt = 0\n",
    "for line in a:\n",
    "    (key, value) = line.strip().split(\"\\t\")\n",
    "    (value) = value.split(';')\n",
    "    if lastKey and (lastKey != key):\n",
    "        print (f'{lastKey}\\t{str(int(sum))};{str(cnt)}')\n",
    "        cnt = 0\n",
    "        (lastKey, sum) = (key, int(value[0]))\n",
    "    else:\n",
    "        (lastKey, sum) = (key, (sum + int(value[0])))\n",
    "    cnt += 1\n",
    "if lastKey:\n",
    "     #print (f'{lastKey}\\t{str(int(sum))};{str(cnt)}')\n",
    "     print(\"{}\\t{};{}\".format(lastKey, str(int(sum)), str(cnt))) # еще 1 способ форматирования вывода"
   ]
  },
  {
   "cell_type": "code",
   "execution_count": 25,
   "metadata": {},
   "outputs": [
    {
     "name": "stdout",
     "output_type": "stream",
     "text": [
      "1,a\t1\n",
      "1,b\t1\n",
      "2,a\t1\n",
      "2,d\t1\n",
      "2,e\t1\n",
      "1,b\t1\n",
      "3,a\t1\n",
      "3,b\t1\n"
     ]
    }
   ],
   "source": [
    "# https://stepik.org/lesson/17726/step/9?auth=login&unit=4413\n",
    "a = open('/Users/kudinoff/Downloads/16.txt')\n",
    "cnt = 0\n",
    "for line in a:\n",
    "    (key, value) = line.strip().split(\"\\t\")\n",
    "    (value) = value.split(',')\n",
    "    for i in (value):\n",
    "        print(\"{},{}\\t1\".format(key, i))\n",
    "        #print(f'{key},{i}\\t1')"
   ]
  },
  {
   "cell_type": "code",
   "execution_count": 26,
   "metadata": {},
   "outputs": [
    {
     "name": "stdout",
     "output_type": "stream",
     "text": [
      "1,a\n",
      "1,b\n",
      "2,a\n",
      "2,d\n",
      "2,e\n",
      "3,a\n",
      "3,b\n"
     ]
    }
   ],
   "source": [
    "# https://stepik.org/lesson/17726/step/10?auth=login&unit=4413\n",
    "a = open('/Users/kudinoff/Downloads/17.txt')\n",
    "(lastkey) = (None)\n",
    "for line in a:\n",
    "    (key, value) = line.strip().split(\"\\t\")\n",
    "    if lastkey != key:\n",
    "        print(key)\n",
    "    lastkey = key"
   ]
  },
  {
   "cell_type": "code",
   "execution_count": 29,
   "metadata": {},
   "outputs": [
    {
     "name": "stdout",
     "output_type": "stream",
     "text": [
      "a\t1\n",
      "a\t1\n",
      "a\t1\n",
      "b\t1\n",
      "b\t1\n",
      "d\t1\n",
      "e\t1\n"
     ]
    }
   ],
   "source": [
    "# вариант 1 https://stepik.org/lesson/17726/step/11?auth=login&unit=4413\n",
    "a = open('/Users/kudinoff/Downloads/18.txt')\n",
    "for line in a:\n",
    "    (key, value) = line.strip().split(\",\")\n",
    "    print(f'{value}\\t1')"
   ]
  },
  {
   "cell_type": "code",
   "execution_count": 32,
   "metadata": {},
   "outputs": [
    {
     "name": "stdout",
     "output_type": "stream",
     "text": [
      "a\t1\n",
      "a\t1\n",
      "a\t1\n",
      "b\t1\n",
      "b\t1\n",
      "d\t1\n",
      "e\t1\n"
     ]
    }
   ],
   "source": [
    "# вариант 2 без переменной https://stepik.org/lesson/17726/step/11?auth=login&unit=4413\n",
    "a = open('/Users/kudinoff/Downloads/18.txt')\n",
    "for line in a:\n",
    "    print(f'{line.strip().split(\",\")[1]}\\t1')"
   ]
  },
  {
   "cell_type": "code",
   "execution_count": 47,
   "metadata": {},
   "outputs": [
    {
     "name": "stdout",
     "output_type": "stream",
     "text": [
      "b\t2\n",
      "a\t3\n",
      "d\t1\n",
      "e\t1\n"
     ]
    }
   ],
   "source": [
    "# вариант 1 https://stepik.org/lesson/17726/step/12?auth=login&unit=4413\n",
    "a = open('/Users/kudinoff/Downloads/19.txt')\n",
    "from collections import Counter \n",
    "d={}\n",
    "for line in a:\n",
    "    s = line.strip().split(\"\\t\")\n",
    "    if d.get(s[0]):\n",
    "        d[s[0]].append(s[1]) # создаем словарь со значениями в виде списка{'1': ['a', 'b', 'b']}\n",
    "        #print(d)\n",
    "    else:\n",
    "        d[s[0]]=([s[1]])\n",
    "for i,j in d.items(): # через множество избавляемся в списке значения от дублей\n",
    "    d[i] = list(set(j))\n",
    "t= list(d.values())# переводим в список все значения словаря\n",
    "l=[]\n",
    "for i in t:\n",
    "    for h in i:\n",
    "        l.append(h) # делаем список плоский без группировок\n",
    "#result = {i: l.count(i) for i in l} #считаем сколько значений каждого элемента в списке\n",
    "result =Counter(l) \n",
    "for i,j in result.items():\n",
    "    print(f'{i}\\t{str(j)}')"
   ]
  },
  {
   "cell_type": "code",
   "execution_count": 69,
   "metadata": {},
   "outputs": [
    {
     "name": "stdout",
     "output_type": "stream",
     "text": [
      "{'a': {'1', '2', '3'}, 'b': {'1', '3'}, 'd': {'2'}, 'e': {'2'}}\n",
      "a\t3\n",
      "b\t2\n",
      "d\t1\n",
      "e\t1\n"
     ]
    }
   ],
   "source": [
    "# вариант 2https://stepik.org/lesson/17726/step/12?auth=login&unit=4413\n",
    "a = open('/Users/kudinoff/Downloads/19.txt')\n",
    "d = {}\n",
    "for line in a:\n",
    "    value, key = line.strip().split(\"\\t\")\n",
    "    d.setdefault(key, set()).add(value) #открывает по ключу пустое множество если нет такого ключа куда дописываем значение\n",
    "    # если есть ключ просто добавляем в множество\n",
    "print(d)\n",
    "for key, value in d.items():\n",
    "    print(f\"{key}\\t{len(value)}\")"
   ]
  },
  {
   "cell_type": "code",
   "execution_count": 71,
   "metadata": {},
   "outputs": [
    {
     "name": "stdout",
     "output_type": "stream",
     "text": [
      "a,b\t1\n",
      "b,a\t1\n",
      "a,b\t1\n",
      "a,c\t1\n",
      "b,a\t1\n",
      "b,a\t1\n",
      "b,c\t1\n",
      "a,b\t1\n",
      "a,c\t1\n",
      "c,a\t1\n",
      "c,b\t1\n",
      "c,a\t1\n"
     ]
    }
   ],
   "source": [
    "# https://stepik.org/lesson/17726/step/14?auth=login&unit=4413\n",
    "a = open('/Users/kudinoff/Downloads/20.txt')\n",
    "for line in a:\n",
    "    s = line.strip().split(\" \")\n",
    "    for i in range(len(s)):\n",
    "        for j in range(len(s)):\n",
    "            if s[i]!= s[j]:\n",
    "                print('{},{}\\t1'.format(s[i], s[j]))"
   ]
  },
  {
   "cell_type": "code",
   "execution_count": 88,
   "metadata": {},
   "outputs": [
    {
     "name": "stdout",
     "output_type": "stream",
     "text": [
      "a\tb:1\n",
      "b\ta:1\n",
      "a\tb:1,c:1\n",
      "b\ta:2,c:1\n",
      "a\tb:1,c:1\n",
      "c\ta:2,b:1\n"
     ]
    }
   ],
   "source": [
    "#https://stepik.org/lesson/17726/step/15?auth=login&unit=4413\n",
    "from collections import Counter\n",
    "a = open('/Users/kudinoff/Downloads/20.txt')\n",
    "for line in a:\n",
    "    s = line.strip().split(\" \")\n",
    "    for i in range(len(s)):\n",
    "        f = []\n",
    "        for j in range(len(s)):\n",
    "            if s[i]!= s[j]:\n",
    "                f.append(s[j])\n",
    "        result = Counter(f)\n",
    "        #print(result)\n",
    "        print(f\"{s[i]}\\t\", end='')\n",
    "        print((\",\".join(f\"{k}:{v}\" for (k,v) in result.items())))"
   ]
  },
  {
   "cell_type": "code",
   "execution_count": 94,
   "metadata": {},
   "outputs": [
    {
     "name": "stdout",
     "output_type": "stream",
     "text": [
      "a\t b:1\n",
      "b\t a:1\n",
      "a\t b:1,c:1\n",
      "b\t a:2,c:1\n",
      "a\t b:1,c:1\n",
      "c\t a:2,b:1\n"
     ]
    }
   ],
   "source": [
    "#вариат 2 со словарем https://stepik.org/lesson/17726/step/15?auth=login&unit=4413\n",
    "a = open('/Users/kudinoff/Downloads/20.txt')\n",
    "for line in a:\n",
    "    s = line.strip().split(\" \")\n",
    "    for i in s:\n",
    "        d={}\n",
    "        for j in s:\n",
    "            if i != j:\n",
    "                d[j] = d.get(j,0) + 1\n",
    "        print(f'{i}\\t', (\",\".join(f\"{k}:{v}\" for (k,v) in d.items()))) "
   ]
  },
  {
   "cell_type": "code",
   "execution_count": 96,
   "metadata": {},
   "outputs": [
    {
     "name": "stdout",
     "output_type": "stream",
     "text": [
      "1448764519\tuser10\thttps://stepic.org/\n",
      "1448773411\tuser10\thttps://stepic.org/explore/courses\n"
     ]
    }
   ],
   "source": [
    "# https://stepik.org/lesson/17732/step/2?auth=login&unit=4414\n",
    "a = open('/Users/kudinoff/Downloads/21.txt')\n",
    "for line in a:\n",
    "    s = line.strip().split('\\t')\n",
    "    if s[1] == 'user10':\n",
    "        print('\\t'.join(f'{s[k]}' for k in range(len(s)))) "
   ]
  },
  {
   "cell_type": "code",
   "execution_count": 97,
   "metadata": {},
   "outputs": [
    {
     "name": "stdout",
     "output_type": "stream",
     "text": [
      "https://ru.wikipedia.org/\n",
      "https://stepic.org/\n",
      "http://google.com/\n",
      "https://stepic.org/explore/courses\n",
      "http://vk.com/\n"
     ]
    }
   ],
   "source": [
    "# https://stepik.org/lesson/17732/step/3?auth=login&unit=4414\n",
    "a = open('/Users/kudinoff/Downloads/22.txt')\n",
    "for line in a:\n",
    "    print((line.strip().split('\\t')[2]))"
   ]
  },
  {
   "cell_type": "code",
   "execution_count": 98,
   "metadata": {},
   "outputs": [
    {
     "name": "stdout",
     "output_type": "stream",
     "text": [
      "1\n",
      "2\n",
      "3\n"
     ]
    }
   ],
   "source": [
    "# вариант 1 с хранением всего ввода в множестве https://stepik.org/lesson/17732/step/4?auth=login&unit=4414\n",
    "a = open('/Users/kudinoff/Downloads/23.txt')\n",
    "d=set()\n",
    "for line in a:\n",
    "    s = line.strip().split('\\t')\n",
    "    if s[0] not in d:\n",
    "        d.add(s[0])\n",
    "        print(s[0])"
   ]
  },
  {
   "cell_type": "code",
   "execution_count": 103,
   "metadata": {},
   "outputs": [
    {
     "name": "stdout",
     "output_type": "stream",
     "text": [
      "1\n",
      "2\n",
      "3\n"
     ]
    }
   ],
   "source": [
    "# вариант 2 без хранения https://stepik.org/lesson/17732/step/4?auth=login&unit=4414\n",
    "a = open('/Users/kudinoff/Downloads/23.txt')\n",
    "(lastkey) = (None)\n",
    "for line in a:\n",
    "    (key, value) = line.strip().split('\\t')\n",
    "    if (key) != (lastkey):\n",
    "        print(key)\n",
    "        (lastkey)=(key)"
   ]
  },
  {
   "cell_type": "code",
   "execution_count": 106,
   "metadata": {},
   "outputs": [
    {
     "name": "stdout",
     "output_type": "stream",
     "text": [
      "2\n"
     ]
    }
   ],
   "source": [
    "#вариант 1 с хранением https://stepik.org/lesson/17732/step/5?auth=login&unit=4414\n",
    "a = open('/Users/kudinoff/Downloads/23.txt')\n",
    "d= set()\n",
    "for line in a:\n",
    "    s = line.strip().split('\\t')\n",
    "    if s[0] not in d:\n",
    "        d.add(s[0])\n",
    "    else:\n",
    "        print(s[0])"
   ]
  },
  {
   "cell_type": "code",
   "execution_count": 108,
   "metadata": {},
   "outputs": [
    {
     "name": "stdout",
     "output_type": "stream",
     "text": [
      "2\n"
     ]
    }
   ],
   "source": [
    "#вариант 2 без хпанения https://stepik.org/lesson/17732/step/5?auth=login&unit=4414\n",
    "a = open('/Users/kudinoff/Downloads/23.txt')\n",
    "(lastkey) = (None)\n",
    "for line in a:\n",
    "    (key, value) = line.strip().split('\\t')\n",
    "    if (key) == (lastkey):\n",
    "        print(key)\n",
    "    else:   \n",
    "        (lastkey)=(key)"
   ]
  },
  {
   "cell_type": "code",
   "execution_count": 113,
   "metadata": {},
   "outputs": [
    {
     "name": "stdout",
     "output_type": "stream",
     "text": [
      "1\n"
     ]
    }
   ],
   "source": [
    "#https://stepik.org/lesson/17732/step/6?auth=login&unit=4414\n",
    "a = open('/Users/kudinoff/Downloads/23.txt')\n",
    "lastkey = None\n",
    "lastv = None\n",
    "for line in a:\n",
    "    k,v = line.strip().split('\\t')\n",
    "    if (k != lastkey) and (lastv == 'A'):\n",
    "        print(lastkey)\n",
    "    lastkey = k\n",
    "    lastv = v\n",
    "if v == 'A':\n",
    "    print(k)"
   ]
  },
  {
   "cell_type": "code",
   "execution_count": 109,
   "metadata": {},
   "outputs": [
    {
     "name": "stdout",
     "output_type": "stream",
     "text": [
      "1\n",
      "3\n"
     ]
    }
   ],
   "source": [
    "#https://stepik.org/lesson/17732/step/7?auth=login&unit=4414\n",
    "a = open('/Users/kudinoff/Downloads/23.txt')\n",
    "d=set()\n",
    "(last) = (None)\n",
    "for line in a:\n",
    "    s = line.strip().split('\\t')\n",
    "    if s[0] in d:\n",
    "         d.discard(s[0])\n",
    "    else:\n",
    "        d.add(s[0])\n",
    "p = list(d)\n",
    "p.sort()\n",
    "for k in p:\n",
    "    print(k)    "
   ]
  },
  {
   "cell_type": "code",
   "execution_count": null,
   "metadata": {},
   "outputs": [],
   "source": [
    "#https://stepik.org/lesson/17732/step/9?auth=login&unit=4414  не решил"
   ]
  },
  {
   "cell_type": "code",
   "execution_count": 122,
   "metadata": {},
   "outputs": [
    {
     "name": "stdout",
     "output_type": "stream",
     "text": [
      "a#1\t1\n",
      "b#1\t1\n",
      "aut#1\t1\n",
      "Caesar#1\t1\n",
      "aut#1\t1\n",
      "nihil#1\t1\n",
      "aut#1\t1\n",
      "aut#1\t1\n",
      "de#2\t1\n",
      "mortuis#2\t1\n",
      "aut#2\t1\n",
      "bene#2\t1\n",
      "aut#2\t1\n",
      "nihil#2\t1\n"
     ]
    }
   ],
   "source": [
    "#вариант 1 https://stepik.org/lesson/17733/step/2?auth=login&unit=4415\n",
    "a = open('/Users/kudinoff/Downloads/24.txt')# 4.3 Hadoop. Система для обработки больших объемов данных\n",
    "import re\n",
    "for line in a:\n",
    "    s = re.split(r':',line, maxsplit=1) #отделяем первое двоеточие\n",
    "    #print(s)\n",
    "    n=re.sub(r'[^\\w]',' ', s[1])#делим на слова вторую часть \n",
    "    #print(n)\n",
    "    t= re.split(r'[ ]+', n) #делаем список из строки\n",
    "    #print(t)\n",
    "    for l in range(len(t)-1):\n",
    "        print(f'{t[l]}#{s[0]}\\t1')"
   ]
  },
  {
   "cell_type": "code",
   "execution_count": 126,
   "metadata": {},
   "outputs": [
    {
     "name": "stdout",
     "output_type": "stream",
     "text": [
      "a#1\t1\n",
      "b#1\t1\n",
      "aut#1\t1\n",
      "Caesar#1\t1\n",
      "aut#1\t1\n",
      "nihil#1\t1\n",
      "aut#1\t1\n",
      "aut#1\t1\n",
      "de#2\t1\n",
      "mortuis#2\t1\n",
      "aut#2\t1\n",
      "bene#2\t1\n",
      "aut#2\t1\n",
      "nihil#2\t1\n"
     ]
    }
   ],
   "source": [
    "#вариант 2 https://stepik.org/lesson/17733/step/2?auth=login&unit=4415\n",
    "a = open('/Users/kudinoff/Downloads/24.txt')\n",
    "import re\n",
    "for line in a:    \n",
    "    words = re.findall(r'\\w+', line) #r'\\w+' регулярка котора делит на слова \n",
    "    for word in words[1:]:\n",
    "        print(f'{word}#{words[0]}\\t1')"
   ]
  },
  {
   "cell_type": "code",
   "execution_count": 176,
   "metadata": {},
   "outputs": [
    {
     "name": "stdout",
     "output_type": "stream",
     "text": [
      "aut\t1\t4\n",
      "aut\t2\t2\n",
      "bene\t2\t1\n",
      "de\t2\t1\n",
      "mortuis\t2\t1\n",
      "nihil\t1\t1\n",
      "nihil\t2\t1\n",
      "Caesar\t1\t1\n"
     ]
    }
   ],
   "source": [
    "#https://stepik.org/lesson/17733/step/3?auth=login&unit=4415\n",
    "a = open('/Users/kudinoff/Downloads/25.txt')\n",
    "dict = {}\n",
    "for line in a:\n",
    "    word,doc =line.strip().split('\\t')\n",
    "    if dict.get(word): # проверяем есть ли в словаре уже такой ключ, если да то +1\n",
    "        dict[word]+=1\n",
    "        lastw,lastd = word.split('#')\n",
    "    elif dict=={}: # проверяем  словарь пустой или нет\n",
    "        dict[word]=1\n",
    "        lastw,lastd = word.split('#')\n",
    "    else: # если в словаре уже что то есть , но при этом ключ не совпал выше, то надо печатать\n",
    "        for value in dict.values():\n",
    "            print('{}\\t{}\\t{}'.format(lastw, lastd,str(value)))\n",
    "        dict.clear()\n",
    "        dict[word]=1\n",
    "        lastw,lastd = word.split('#')\n",
    "for value in dict.values(): # последнее значение в словаре  допечатываем\n",
    "    print('{}\\t{}\\t{}'.format(lastw, lastd,str(value)))"
   ]
  },
  {
   "cell_type": "code",
   "execution_count": 129,
   "metadata": {},
   "outputs": [
    {
     "name": "stdout",
     "output_type": "stream",
     "text": [
      "aut\t1;4;1\n",
      "aut\t2;2;1\n",
      "bene\t2;1;1\n",
      "de\t2;1;1\n",
      "mortuis\t2;1;1\n",
      "nihil\t1;1;1\n",
      "nihil\t2;1;1\n",
      "Caesar\t1;1;1\n"
     ]
    }
   ],
   "source": [
    "#https://stepik.org/lesson/17733/step/4?auth=login&unit=4415\n",
    "a = open('/Users/kudinoff/Downloads/26.txt')\n",
    "for line in a:\n",
    "    s= line.strip().split('\\t')\n",
    "    print(f'{s[0]}\\t{s[1]};{s[2]};1')"
   ]
  },
  {
   "cell_type": "code",
   "execution_count": 186,
   "metadata": {},
   "outputs": [
    {
     "name": "stdout",
     "output_type": "stream",
     "text": [
      "aut#1\t4\t1\n",
      "aut#2\t2\t1\n",
      "bene#2\t1\t1\n",
      "de#2\t1\t1\n",
      "mortuis#2\t1\t1\n",
      "nihil#1\t1\t1\n",
      "nihil#2\t1\t1\n",
      "Caesar#1\t1\t1\n"
     ]
    }
   ],
   "source": [
    "#https://stepik.org/lesson/17733/step/5?auth=login&unit=4415\n",
    "a = open('/Users/kudinoff/Downloads/27.txt')# \n",
    "lastword=None\n",
    "lastd=None\n",
    "dict={}\n",
    "for line in a:\n",
    "    s = line.strip().split('\\t')\n",
    "    k=s[1].split(';')   #создаем список из цифр из второй части строки \n",
    "    if lastword and s[0]!= lastword:   # проверяем не первый ли это цикл и что ключ не равен предыдущему\n",
    "        for key, value in dict.items():\n",
    "            for h in value:\n",
    "                 print(f'{key}#{h[0]}\\t{h[1]}\\t{str(cnt)}')\n",
    "        dict.clear()\n",
    "        dict[s[0]] = []\n",
    "        dict[s[0]].append(k)\n",
    "        lastword = s[0]\n",
    "    elif lastword and s[0]== lastword:  # проверяем не первый ли это цикл и что ключ  равен предыдущему \n",
    "        dict[s[0]].append(k) #если да то дописываем в словарь еще 1 список пример{'key1':[['1','4','1'], ['2','2','1']]}\n",
    "        lastword = s[0]\n",
    "    else:  #это случай когда первый цикл\n",
    "        dict[s[0]] = []\n",
    "        dict[s[0]].append(k)\n",
    "        lastword = s[0]       \n",
    "if lastword:  #допечатываем последнее значение\n",
    "    for key, value in dict.items():\n",
    "           for h in value:\n",
    "                print(f'{key}#{h[0]}\\t{h[1]}\\t{str(cnt)}')"
   ]
  },
  {
   "cell_type": "code",
   "execution_count": 197,
   "metadata": {},
   "outputs": [
    {
     "name": "stdout",
     "output_type": "stream",
     "text": [
      "9\n"
     ]
    }
   ],
   "source": [
    "#https://stepik.org/lesson/17744/step/3?auth=login&unit=4417\n",
    "a = open('/Users/kudinoff/Downloads/29.txt')\n",
    "import random # для выбора любого значения из множества при определнии минимума\n",
    "cnt = 0  # счетчик циклов при считывании данных из stdin, чтобы обработать 1 и последнюю строку по другим правилам\n",
    "data = []  # список для хранеия данных по ребрам\n",
    "mins = {}  # словарь для хранения данных по мин расстояниям\n",
    "s = set()  # множество для хранения  вершин \n",
    "for line in a:\n",
    "    if cnt == 0:  # Если первая строка в вводе то запоминаем количество вершин и ребер\n",
    "        (qversh, qreber)= line.strip().split(' ')\n",
    "    elif cnt <= int(qreber):\n",
    "            rebro = line.strip().split(' ')\n",
    "            data.append(rebro)\n",
    "    else:\n",
    "            (begin, end)= line.strip().split(' ')  # считываем первую и последнюю точку для которых считаем путь\n",
    "    cnt += 1\n",
    "mins = {str(x):  float('inf') for x in range(1,(int(qversh)+1))}  # заполняем бесконечностями словарь мин расстояний \n",
    "s={str(x)  for x in range(1,(int(qversh)+1))}  # заполняем множество вершин \n",
    "mins[begin] = 0  # у всех вершин бесконечность , у точки начла - 0 , чтобы в первой итерации запустить расчеты именно с нее\n",
    "min_0 = 0 # минимум значения для вершины\n",
    "min_versh = 0  # минимальная вершина вначале\n",
    "while len(s)!= 0:\n",
    "    min_0 = (random.sample(s, 1)[0]) # выбираем из вершин случайный элемент, назначаем \n",
    "    # его минимумом и далее с ним сравниваем  \n",
    "    for k in s:\n",
    "        if mins[k] <= mins[min_0]:  # нужно взять оставшееся множ и для вершин посчитать по словарю с расстояниями(mins)\n",
    "            # где ключи это элементы множетства минимальное расстояние и вернуть  ключ с минимумом\n",
    "            min_0 = k  \n",
    "    for i in data:\n",
    "        if (i[0]) == min_0:  # проверяем что элемент списка для  выбранного минимального значения \n",
    "            if mins[i[1]] > mins[i[0]]+int(i[2]):  # сравниваем   минимум    в mins\n",
    "                #  с суммой   выбранного минимального значения + вес ребря  \n",
    "                mins[i[1]] = mins[i[0]]+int(i[2]) # новый минимум \n",
    "    s.discard(min_0)\n",
    "if mins[end] == float('inf'): # Если для конечной верштны минимум не найден , то -1\n",
    "    print(-1)\n",
    "else:\n",
    "    print(mins[end])"
   ]
  },
  {
   "cell_type": "code",
   "execution_count": null,
   "metadata": {},
   "outputs": [],
   "source": [
    "# https://stepik.org/lesson/17744/step/5?auth=login&unit=4417\n",
    "# не делал"
   ]
  },
  {
   "cell_type": "code",
   "execution_count": null,
   "metadata": {},
   "outputs": [],
   "source": [
    "# https://stepik.org/lesson/17744/step/6?auth=login&unit=4417\n",
    "# не делал"
   ]
  },
  {
   "cell_type": "code",
   "execution_count": 257,
   "metadata": {},
   "outputs": [
    {
     "name": "stdout",
     "output_type": "stream",
     "text": [
      "1\t0.200\t{2,4}\n",
      "2\t0.100\t{}\n",
      "4\t0.100\t{}\n",
      "2\t0.200\t{3,5}\n",
      "3\t0.100\t{}\n",
      "5\t0.100\t{}\n",
      "3\t0.200\t{4}\n",
      "4\t0.200\t{}\n",
      "4\t0.200\t{5}\n",
      "5\t0.200\t{}\n",
      "5\t0.200\t{1,2,3}\n",
      "1\t0.067\t{}\n",
      "2\t0.067\t{}\n",
      "3\t0.067\t{}\n"
     ]
    }
   ],
   "source": [
    "# https://stepik.org/lesson/17746/step/8?auth=login&unit=4418\n",
    "a = open('/Users/kudinoff/Downloads/31.txt')\n",
    "for line in a:\n",
    "    lst = line.strip().split('\\t')\n",
    "    number = lst[2].strip('{}').split(',')\n",
    "    print(f'{lst[0]}\\t{lst[1]}\\t{lst[2]}')\n",
    "    for n in number:\n",
    "        avg = float(lst[1])/len(number)\n",
    "        print('{}\\t{:.3f}\\t{}'.format(n, avg, '{}'))"
   ]
  },
  {
   "cell_type": "code",
   "execution_count": 291,
   "metadata": {},
   "outputs": [
    {
     "name": "stdout",
     "output_type": "stream",
     "text": [
      "1\t0.067\t{2,4}\n",
      "2\t0.167\t{3,5}\n",
      "3\t0.167\t{4}\n",
      "4\t0.300\t{5}\n",
      "5\t0.300\t{1,2,3}\n"
     ]
    }
   ],
   "source": [
    "# https://stepik.org/lesson/17746/step/9?auth=login&unit=4418\n",
    "a = open('/Users/kudinoff/Downloads/32.txt')\n",
    "sum = 0\n",
    "prevk = None\n",
    "prevstr = None\n",
    "for line in a:\n",
    "    lst = line.strip().split('\\t')\n",
    "    if prevk and lst[0] != prevk:  # проверяем что это не 1 значение и что ключ изменился     \n",
    "         print('{}\\t{:.3f}\\t{}'.format(prevk, sum, prevstr))\n",
    "         sum = 0\n",
    "    if len(lst[2]) == 2:  # проверяем что это не строка с исходящими ребрами\n",
    "        sum += float(lst[1])\n",
    "    else:\n",
    "        prevstr = lst[2] # для строки с исходящими ребрами сохраняем \n",
    "    prevk = lst[0]    \n",
    "if prevk:  # для последнего значения печатаем\n",
    "    print('{}\\t{:.3f}\\t{}'.format(prevk, sum, prevstr))\n",
    "    "
   ]
  },
  {
   "cell_type": "code",
   "execution_count": 410,
   "metadata": {},
   "outputs": [
    {
     "name": "stdout",
     "output_type": "stream",
     "text": [
      "1\t0.080\t{2,4}\n",
      "2\t0.170\t{3,5}\n",
      "3\t0.170\t{4}\n",
      "4\t0.290\t{5}\n",
      "5\t0.290\t{1,2,3}\n"
     ]
    }
   ],
   "source": [
    "# https://stepik.org/lesson/17746/step/10?auth=login&unit=4418\n",
    "a = open('/Users/kudinoff/Downloads/32.txt')\n",
    "prevk = None\n",
    "prevstr = None\n",
    "alfa = 0.1\n",
    "N = 5\n",
    "sum = alfa / N\n",
    "for line in a:\n",
    "    lst = line.strip().split('\\t')\n",
    "    if prevk and lst[0] != prevk:  # проверяем что это не 1 значение и что ключ изменился     \n",
    "         print('{}\\t{:.3f}\\t{}'.format(prevk, sum, prevstr))\n",
    "         sum = alfa / N\n",
    "    if len(lst[2]) == 2:  # проверяем что это не строка с исходящими ребрами\n",
    "        sum += (1-alfa)*float(lst[1])\n",
    "    else:\n",
    "        prevstr = lst[2] # для строки с исходящими ребрами сохраняем \n",
    "    prevk = lst[0]    \n",
    "if prevk:  # для последнего значения печатаем\n",
    "    print('{}\\t{:.3f}\\t{}'.format(prevk, sum, prevstr))"
   ]
  },
  {
   "cell_type": "code",
   "execution_count": 450,
   "metadata": {},
   "outputs": [
    {
     "name": "stdout",
     "output_type": "stream",
     "text": [
      "4350650720\n",
      "knskdknskd\n",
      "4352460656\n"
     ]
    }
   ],
   "source": [
    "x = 'knskd'\n",
    "print(id(x))\n",
    "y= 'sc s'\n",
    "x=x*2\n",
    "print(x)\n",
    "print(id(x))"
   ]
  },
  {
   "cell_type": "code",
   "execution_count": 465,
   "metadata": {},
   "outputs": [
    {
     "name": "stdout",
     "output_type": "stream",
     "text": [
      "4351485320\n",
      "(1, 2, 1, 2, 1, 2)\n",
      "4352084872\n",
      "6\n"
     ]
    }
   ],
   "source": [
    "x=(1, 2)\n",
    "print(id(x))\n",
    "x =x+x+x\n",
    "print(x)\n",
    "print(id(x))\n",
    "\n",
    "print(len(x))"
   ]
  },
  {
   "cell_type": "code",
   "execution_count": null,
   "metadata": {},
   "outputs": [],
   "source": []
  },
  {
   "cell_type": "code",
   "execution_count": null,
   "metadata": {},
   "outputs": [],
   "source": []
  },
  {
   "cell_type": "code",
   "execution_count": null,
   "metadata": {},
   "outputs": [],
   "source": []
  }
 ],
 "metadata": {
  "kernelspec": {
   "display_name": "Python 3",
   "language": "python",
   "name": "python3"
  },
  "language_info": {
   "codemirror_mode": {
    "name": "ipython",
    "version": 3
   },
   "file_extension": ".py",
   "mimetype": "text/x-python",
   "name": "python",
   "nbconvert_exporter": "python",
   "pygments_lexer": "ipython3",
   "version": "3.7.1"
  }
 },
 "nbformat": 4,
 "nbformat_minor": 2
}
